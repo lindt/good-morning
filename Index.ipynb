{
 "cells": [
  {
   "cell_type": "markdown",
   "metadata": {},
   "source": [
    "# Good Morning"
   ]
  },
  {
   "cell_type": "markdown",
   "metadata": {
    "collapsed": true
   },
   "source": [
    "improves your first _30 minutes_ each day"
   ]
  },
  {
   "cell_type": "code",
   "execution_count": 3,
   "metadata": {
    "collapsed": false
   },
   "outputs": [
    {
     "name": "stdout",
     "output_type": "stream",
     "text": [
      "CONTAINER ID        IMAGE               COMMAND                  CREATED             STATUS              PORTS                    NAMES\n",
      "b24085e77b6b        think/notebook      \"/bin/notebook --i...\"   21 seconds ago      Up 20 seconds       0.0.0.0:8888->8888/tcp   notebook\n"
     ]
    }
   ],
   "source": [
    "%%sh\n",
    "\n",
    "docker ps"
   ]
  },
  {
   "cell_type": "markdown",
   "metadata": {},
   "source": [
    "## Motivation\n",
    "\n",
    "..."
   ]
  },
  {
   "cell_type": "markdown",
   "metadata": {},
   "source": [
    "## Emotions"
   ]
  },
  {
   "cell_type": "markdown",
   "metadata": {},
   "source": [
    "<img width=\"200px\" height=\"200px\" src=\"/files/images/sad2.jpg\" />\n"
   ]
  },
  {
   "cell_type": "code",
   "execution_count": 13,
   "metadata": {
    "collapsed": false
   },
   "outputs": [
    {
     "name": "stdout",
     "output_type": "stream",
     "text": [
      "TimeStamp,faceId,interocularDistance,glasses,age,ethnicity,gender,dominantEmoji,pitch,yaw,roll,joy,fear,disgust,sadness,anger,surprise,contempt,valence,engagement,smile,innerBrowRaise,browRaise,browFurrow,noseWrinkle,upperLipRaise,lipCornerDepressor,chinRaise,lipPucker,lipPress,lipSuck,mouthOpen,smirk,eyeClosure,attention,eyeWiden,cheekRaise,lidTighten,dimpler,lipStretch,jawDrop,relaxed,smiley,laughing,kissing,disappointed,rage,smirk,wink,stuckOutTongueWinkingEye,stuckOutTongue,flushed,scream,\n",
      "0.0000nan,nan,no,unknown,unknown,unknown,unknown,nan,nan,nan,nan,nan,nan,nan,nan,nan,nan,nan,nan,nan,nan,nan,nan,nan,nan,nan,nan,nan,nan,nan,nan,nan,nan,nan,nan,nan,nan,nan,nan,nan,nan,nan,nan,nan,nan,nan,nan,nan,nan,nan,nan,nan,\n"
     ]
    }
   ],
   "source": [
    "%%sh\n",
    "./analyze images/sad2.jpg"
   ]
  },
  {
   "cell_type": "markdown",
   "metadata": {},
   "source": [
    "<img width=\"200px\" height=\"200px\" src=\"/files/images/happy.jpg\" />\n"
   ]
  },
  {
   "cell_type": "code",
   "execution_count": 12,
   "metadata": {
    "collapsed": false
   },
   "outputs": [
    {
     "name": "stdout",
     "output_type": "stream",
     "text": [
      "TimeStamp,faceId,interocularDistance,glasses,age,ethnicity,gender,dominantEmoji,pitch,yaw,roll,joy,fear,disgust,sadness,anger,surprise,contempt,valence,engagement,smile,innerBrowRaise,browRaise,browFurrow,noseWrinkle,upperLipRaise,lipCornerDepressor,chinRaise,lipPucker,lipPress,lipSuck,mouthOpen,smirk,eyeClosure,attention,eyeWiden,cheekRaise,lidTighten,dimpler,lipStretch,jawDrop,relaxed,smiley,laughing,kissing,disappointed,rage,smirk,wink,stuckOutTongueWinkingEye,stuckOutTongue,flushed,scream,\n",
      "0.0000,0,60.9951,no,under 18,caucasian,female,StuckOutTongue,-8.0137,-2.6438,-14.6491,97.4306,0.0006,0.0003,0.0000,0.0000,72.4136,0.0001,99.9979,100.0000,99.9951,0.0000,100.0000,0.0000,0.0001,0.0023,0.0000,0.0012,0.0000,0.0014,0.0004,38.6029,0.0007,0.0000,97.9593,100.0000,0.0691,0.0000,12.1845,0.4122,39.5899,3.2852,0.0066,0.0000,0.0018,0.0018,0.0000,0.0000,0.0018,2.2977,99.9996,56.3166,24.4674,\n"
     ]
    }
   ],
   "source": [
    "%%sh\n",
    "./analyze images/happy.jpg"
   ]
  },
  {
   "cell_type": "code",
   "execution_count": null,
   "metadata": {
    "collapsed": true
   },
   "outputs": [],
   "source": []
  }
 ],
 "metadata": {
  "kernelspec": {
   "display_name": "Python 3",
   "language": "python",
   "name": "python3"
  },
  "language_info": {
   "codemirror_mode": {
    "name": "ipython",
    "version": 3
   },
   "file_extension": ".py",
   "mimetype": "text/x-python",
   "name": "python",
   "nbconvert_exporter": "python",
   "pygments_lexer": "ipython3",
   "version": "3.5.1"
  }
 },
 "nbformat": 4,
 "nbformat_minor": 0
}
