{
 "cells": [
  {
   "cell_type": "markdown",
   "metadata": {},
   "source": [
    "# Good Morning World"
   ]
  },
  {
   "cell_type": "markdown",
   "metadata": {
    "collapsed": true
   },
   "source": [
    "improves your first _30 minutes_ each day"
   ]
  },
  {
   "cell_type": "markdown",
   "metadata": {},
   "source": [
    "## Motivation\n",
    "\n",
    "Every night is different.\n",
    "When you slept good, you need another coffee as when you didn't sleep well.\n",
    "_Good Morning World_ aims to fill this gap."
   ]
  },
  {
   "cell_type": "markdown",
   "metadata": {},
   "source": [
    "## Emotions"
   ]
  },
  {
   "cell_type": "markdown",
   "metadata": {},
   "source": [
    "<img width=\"200px\" height=\"200px\" src=\"/files/images/sad.jpg\" />\n"
   ]
  },
  {
   "cell_type": "code",
   "execution_count": 2,
   "metadata": {
    "collapsed": false
   },
   "outputs": [
    {
     "name": "stdout",
     "output_type": "stream",
     "text": [
      "TimeStamp,faceId,interocularDistance,glasses,age,ethnicity,gender,dominantEmoji,pitch,yaw,roll,joy,fear,disgust,sadness,anger,surprise,contempt,valence,engagement,smile,innerBrowRaise,browRaise,browFurrow,noseWrinkle,upperLipRaise,lipCornerDepressor,chinRaise,lipPucker,lipPress,lipSuck,mouthOpen,smirk,eyeClosure,attention,eyeWiden,cheekRaise,lidTighten,dimpler,lipStretch,jawDrop,relaxed,smiley,laughing,kissing,disappointed,rage,smirk,wink,stuckOutTongueWinkingEye,stuckOutTongue,flushed,scream,\n",
      "0.0000,0,59.4138,no,55-64,caucasian,male,Disappointed,-9.4152,16.3272,-15.0948,0.0018,0.0002,0.4339,0.2967,0.1836,0.1882,0.1939,-100.0000,0.3193,0.0000,0.0053,0.0000,0.3193,0.1624,0.0021,100.0000,99.9997,0.1823,0.4404,0.0526,0.0004,0.0045,0.0000,75.6678,0.0000,0.0000,0.1559,0.0000,0.0000,2.9230,0.0018,0.0018,0.0018,0.0018,99.9265,0.1836,0.0000,0.0023,2.2978,2.2978,0.0018,0.0311,\n"
     ]
    }
   ],
   "source": [
    "%%sh\n",
    "./analyze images/sad.jpg"
   ]
  },
  {
   "cell_type": "markdown",
   "metadata": {},
   "source": [
    "<img width=\"200px\" height=\"200px\" src=\"/files/images/happy.jpg\" />\n"
   ]
  },
  {
   "cell_type": "code",
   "execution_count": 12,
   "metadata": {
    "collapsed": false
   },
   "outputs": [
    {
     "name": "stdout",
     "output_type": "stream",
     "text": [
      "TimeStamp,faceId,interocularDistance,glasses,age,ethnicity,gender,dominantEmoji,pitch,yaw,roll,joy,fear,disgust,sadness,anger,surprise,contempt,valence,engagement,smile,innerBrowRaise,browRaise,browFurrow,noseWrinkle,upperLipRaise,lipCornerDepressor,chinRaise,lipPucker,lipPress,lipSuck,mouthOpen,smirk,eyeClosure,attention,eyeWiden,cheekRaise,lidTighten,dimpler,lipStretch,jawDrop,relaxed,smiley,laughing,kissing,disappointed,rage,smirk,wink,stuckOutTongueWinkingEye,stuckOutTongue,flushed,scream,\n",
      "0.0000,0,60.9951,no,under 18,caucasian,female,StuckOutTongue,-8.0137,-2.6438,-14.6491,97.4306,0.0006,0.0003,0.0000,0.0000,72.4136,0.0001,99.9979,100.0000,99.9951,0.0000,100.0000,0.0000,0.0001,0.0023,0.0000,0.0012,0.0000,0.0014,0.0004,38.6029,0.0007,0.0000,97.9593,100.0000,0.0691,0.0000,12.1845,0.4122,39.5899,3.2852,0.0066,0.0000,0.0018,0.0018,0.0000,0.0000,0.0018,2.2977,99.9996,56.3166,24.4674,\n"
     ]
    }
   ],
   "source": [
    "%%sh\n",
    "./analyze images/happy.jpg"
   ]
  },
  {
   "cell_type": "markdown",
   "metadata": {
    "collapsed": true
   },
   "source": [
    "## Try it out\n",
    "\n",
    "Upload your picture <a href=\"/tree/images\">here</a>"
   ]
  },
  {
   "cell_type": "code",
   "execution_count": null,
   "metadata": {
    "collapsed": true
   },
   "outputs": [],
   "source": [
    "%%sh\n",
    "./analyze images/your_image.jpg"
   ]
  }
 ],
 "metadata": {
  "kernelspec": {
   "display_name": "Python 3",
   "language": "python",
   "name": "python3"
  },
  "language_info": {
   "codemirror_mode": {
    "name": "ipython",
    "version": 3
   },
   "file_extension": ".py",
   "mimetype": "text/x-python",
   "name": "python",
   "nbconvert_exporter": "python",
   "pygments_lexer": "ipython3",
   "version": "3.5.1"
  }
 },
 "nbformat": 4,
 "nbformat_minor": 0
}
